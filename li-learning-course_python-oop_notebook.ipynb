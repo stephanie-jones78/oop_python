{
 "cells": [
  {
   "cell_type": "markdown",
   "id": "f5d9190f",
   "metadata": {},
   "source": [
    "# [Python Object-Oriented Programming](https://www.linkedin.com/learning/python-object-oriented-programming/python-object-oriented-programming?u=74417532) \n",
    "LinkedIn Learning Course"
   ]
  },
  {
   "cell_type": "markdown",
   "id": "c653eea4",
   "metadata": {},
   "source": [
    "## Object Oriented Programming Principles\n",
    "Object-oriented programming organizes and structures complex programs, promoting the building of modular programs, isolating different parts of the program from one another.\n",
    "\n",
    "Term | Definition\n",
    ":-- | :--\n",
    "**Class** | Blueprint for creating objects of a particular type\n",
    "**Object** | A specific instance of a class\n",
    "**Attribute** | Variable that holds data that is part of a class\n",
    "**Method** | Function that is part of a class\n",
    "**Inheritance** | Means by which a class can inherit properties of another class\n",
    "**Composition** | Means of building complex objects out of other objects"
   ]
  },
  {
   "cell_type": "code",
   "execution_count": 1,
   "id": "430928dc",
   "metadata": {},
   "outputs": [],
   "source": [
    "# creating a basic class\n",
    "class Book:\n",
    "    pass"
   ]
  },
  {
   "cell_type": "code",
   "execution_count": 2,
   "id": "2ed20247",
   "metadata": {},
   "outputs": [],
   "source": [
    "# creating an instance of the class\n",
    "b1 = Book()"
   ]
  },
  {
   "cell_type": "code",
   "execution_count": 3,
   "id": "156133dc",
   "metadata": {},
   "outputs": [
    {
     "data": {
      "text/plain": [
       "<__main__.Book at 0x7fb842fae520>"
      ]
     },
     "execution_count": 3,
     "metadata": {},
     "output_type": "execute_result"
    }
   ],
   "source": [
    "b1"
   ]
  },
  {
   "cell_type": "code",
   "execution_count": 15,
   "id": "4d97076e",
   "metadata": {},
   "outputs": [],
   "source": [
    "# initializing class object with new information\n",
    "class Book:\n",
    "    def __init__(self, title): # initializing function\n",
    "        self.title = title"
   ]
  },
  {
   "cell_type": "code",
   "execution_count": 16,
   "id": "2e32473d",
   "metadata": {},
   "outputs": [],
   "source": [
    "# creating instances of the book class\n",
    "b2 = Book('Brave New World')\n",
    "b3 = Book('War and Peace')"
   ]
  },
  {
   "cell_type": "code",
   "execution_count": 17,
   "id": "d6111202",
   "metadata": {},
   "outputs": [
    {
     "data": {
      "text/plain": [
       "('Brave New World', 'War and Peace')"
      ]
     },
     "execution_count": 17,
     "metadata": {},
     "output_type": "execute_result"
    }
   ],
   "source": [
    "b2.title, b3.title"
   ]
  },
  {
   "cell_type": "code",
   "execution_count": 41,
   "id": "0a331dd9",
   "metadata": {},
   "outputs": [],
   "source": [
    "# adding properties\n",
    "class Book:\n",
    "    def __init__(self, title, author, pages, price): # add class instance properties (attributes)\n",
    "        self.title = title\n",
    "        self.author = author\n",
    "        self.pages = pages\n",
    "        self.price = price\n",
    "        self.__secret = 'This is a secret attribute' # what will happen with double _\n",
    "    def getprice(self): # add class instance method # instance methods take object as first parameter\n",
    "        \"\"\"\n",
    "        Sample doc string.\n",
    "        \"\"\"\n",
    "        if hasattr(self, '_discount'):\n",
    "            return self.price - (self.price * self._discount)\n",
    "        else:\n",
    "            return self.price\n",
    "    def setdiscount(self, amount):\n",
    "        self._discount = amount # _ indicates attributes internal to class in which it was defined"
   ]
  },
  {
   "cell_type": "code",
   "execution_count": 31,
   "id": "0e5cb7c9",
   "metadata": {},
   "outputs": [],
   "source": [
    "b4 = Book('War and Peace', 'Tolstory', 1224, 39.95)"
   ]
  },
  {
   "cell_type": "code",
   "execution_count": 32,
   "id": "eb2047b6",
   "metadata": {},
   "outputs": [
    {
     "data": {
      "text/plain": [
       "'Tolstory'"
      ]
     },
     "execution_count": 32,
     "metadata": {},
     "output_type": "execute_result"
    }
   ],
   "source": [
    "b4.author"
   ]
  },
  {
   "cell_type": "code",
   "execution_count": 33,
   "id": "f0d2a1f2",
   "metadata": {},
   "outputs": [
    {
     "data": {
      "text/plain": [
       "39.95"
      ]
     },
     "execution_count": 33,
     "metadata": {},
     "output_type": "execute_result"
    }
   ],
   "source": [
    "b4.getprice()"
   ]
  },
  {
   "cell_type": "code",
   "execution_count": 34,
   "id": "4c88746f",
   "metadata": {},
   "outputs": [],
   "source": [
    "b4.setdiscount(.25)"
   ]
  },
  {
   "cell_type": "code",
   "execution_count": 42,
   "id": "6fcaf6eb",
   "metadata": {},
   "outputs": [
    {
     "data": {
      "text/plain": [
       "29.962500000000002"
      ]
     },
     "execution_count": 42,
     "metadata": {},
     "output_type": "execute_result"
    }
   ],
   "source": [
    "b4.getprice()"
   ]
  },
  {
   "cell_type": "code",
   "execution_count": 51,
   "id": "e25e2dff",
   "metadata": {},
   "outputs": [],
   "source": [
    "# b4._Book__secret"
   ]
  },
  {
   "cell_type": "markdown",
   "id": "5d35b0f3",
   "metadata": {},
   "source": [
    "### Checking Instance Types"
   ]
  },
  {
   "cell_type": "code",
   "execution_count": 52,
   "id": "0e3f1779",
   "metadata": {},
   "outputs": [],
   "source": [
    "class Book:\n",
    "    def __init__(self, title):\n",
    "        self.title = title\n",
    "        \n",
    "class Newspaper:\n",
    "    def __init__(self, name):\n",
    "        self.name = name"
   ]
  },
  {
   "cell_type": "code",
   "execution_count": 54,
   "id": "93e29111",
   "metadata": {},
   "outputs": [],
   "source": [
    "# creating instances of the classes\n",
    "b1 = Book(\"The Catcher and the Rye\")\n",
    "b2 = Book(\"The Grapes of Wrath\")\n",
    "n1 = Newspaper(\"The Washington Post\")\n",
    "n2 = Newspaper(\"The New York Times\")"
   ]
  },
  {
   "cell_type": "code",
   "execution_count": 58,
   "id": "241ea436",
   "metadata": {},
   "outputs": [
    {
     "name": "stdout",
     "output_type": "stream",
     "text": [
      "b1 instance is <class '__main__.Book'>\n",
      "b2 instance is <class '__main__.Book'>\n",
      "n1 instance is <class '__main__.Newspaper'>\n",
      "n2 instance is <class '__main__.Newspaper'>\n"
     ]
    }
   ],
   "source": [
    "print(f'b1 instance is {type(b1)}')\n",
    "print(f'b2 instance is {type(b2)}')\n",
    "print(f'n1 instance is {type(n1)}')\n",
    "print(f'n2 instance is {type(n2)}')"
   ]
  },
  {
   "cell_type": "code",
   "execution_count": 60,
   "id": "f3ebed40",
   "metadata": {},
   "outputs": [
    {
     "data": {
      "text/plain": [
       "True"
      ]
     },
     "execution_count": 60,
     "metadata": {},
     "output_type": "execute_result"
    }
   ],
   "source": [
    "type(b1) == type(b2)"
   ]
  },
  {
   "cell_type": "code",
   "execution_count": 64,
   "id": "a225acde",
   "metadata": {},
   "outputs": [
    {
     "name": "stdout",
     "output_type": "stream",
     "text": [
      "True\n",
      "False\n",
      "True\n",
      "True\n"
     ]
    }
   ],
   "source": [
    "print(isinstance(b1, Book))\n",
    "print(isinstance(b2, Newspaper))\n",
    "print(isinstance(n1, Newspaper))\n",
    "print(isinstance(n2, object))"
   ]
  },
  {
   "cell_type": "markdown",
   "id": "3d4ee55a",
   "metadata": {},
   "source": [
    ">### Class Level Attributes and Methods\n",
    "These are different from instance level attributes and methods because they are shared at the class level across all instances of that class."
   ]
  },
  {
   "cell_type": "code",
   "execution_count": 77,
   "id": "b42ff487",
   "metadata": {},
   "outputs": [
    {
     "name": "stdout",
     "output_type": "stream",
     "text": [
      "Book types:  ('HARDCOVER', 'PAPERBACK', 'EBOOK')\n"
     ]
    }
   ],
   "source": [
    "class Book:\n",
    "\n",
    "    # class level attribute\n",
    "    BOOK_TYPES = (\"HARDCOVER\",\n",
    "                  \"PAPERBACK\",\n",
    "                  \"EBOOK\")\n",
    "\n",
    "    # class level method\n",
    "    @classmethod\n",
    "    def getbooktypes(cls):\n",
    "        return cls.BOOK_TYPES\n",
    "    \n",
    "    # instance level attributes\n",
    "    def setTitle(self, newtitle):\n",
    "        self.title = newtitle\n",
    "        \n",
    "    def __init__(self, title, booktype):\n",
    "        self.title = title\n",
    "        if (not booktype in Book.BOOK_TYPES):\n",
    "            raise ValueError(f'{booktype} is not a valid book type.')\n",
    "        else:\n",
    "            self.booktype = booktype\n",
    "    \n",
    "    print('Book types: ', Book.getbooktypes())"
   ]
  },
  {
   "cell_type": "code",
   "execution_count": 83,
   "id": "8387216e",
   "metadata": {},
   "outputs": [
    {
     "name": "stdout",
     "output_type": "stream",
     "text": [
      "Book types:  ('HARDCOVER', 'PAPERBACK', 'EBOOK')\n"
     ]
    }
   ],
   "source": [
    "class Book:\n",
    "\n",
    "    # class level attribute\n",
    "    BOOK_TYPES = (\"HARDCOVER\",\n",
    "                  \"PAPERBACK\",\n",
    "                  \"EBOOK\")\n",
    "\n",
    "    # class level method\n",
    "    @classmethod\n",
    "    def getbooktypes(cls):\n",
    "        return cls.BOOK_TYPES\n",
    "    \n",
    "    # instance level attributes\n",
    "    def setTitle(self, newtitle):\n",
    "        self.title = newtitle\n",
    "        \n",
    "    def __init__(self, title, booktype):\n",
    "        self.title = title\n",
    "        if (not booktype in Book.BOOK_TYPES):\n",
    "            raise ValueError(f'{booktype} is not a valid book type.')\n",
    "        else:\n",
    "            self.booktype = booktype\n",
    "    \n",
    "    print('Book types: ', Book.getbooktypes())"
   ]
  },
  {
   "cell_type": "code",
   "execution_count": 76,
   "id": "b01baab3",
   "metadata": {},
   "outputs": [
    {
     "ename": "ValueError",
     "evalue": "COMIC is not a valid book type.",
     "output_type": "error",
     "traceback": [
      "\u001b[0;31m---------------------------------------------------------------------------\u001b[0m",
      "\u001b[0;31mValueError\u001b[0m                                Traceback (most recent call last)",
      "\u001b[0;32m<ipython-input-76-95009b46ba30>\u001b[0m in \u001b[0;36m<module>\u001b[0;34m\u001b[0m\n\u001b[1;32m      1\u001b[0m \u001b[0;31m# creating book instances\u001b[0m\u001b[0;34m\u001b[0m\u001b[0;34m\u001b[0m\u001b[0;34m\u001b[0m\u001b[0m\n\u001b[1;32m      2\u001b[0m \u001b[0mb1\u001b[0m \u001b[0;34m=\u001b[0m \u001b[0mBook\u001b[0m\u001b[0;34m(\u001b[0m\u001b[0;34m'Title 1'\u001b[0m\u001b[0;34m,\u001b[0m \u001b[0;34m'HARDCOVER'\u001b[0m\u001b[0;34m)\u001b[0m\u001b[0;34m\u001b[0m\u001b[0;34m\u001b[0m\u001b[0m\n\u001b[0;32m----> 3\u001b[0;31m \u001b[0mb2\u001b[0m \u001b[0;34m=\u001b[0m \u001b[0mBook\u001b[0m\u001b[0;34m(\u001b[0m\u001b[0;34m'Title 2'\u001b[0m\u001b[0;34m,\u001b[0m \u001b[0;34m'COMIC'\u001b[0m\u001b[0;34m)\u001b[0m\u001b[0;34m\u001b[0m\u001b[0;34m\u001b[0m\u001b[0m\n\u001b[0m",
      "\u001b[0;32m<ipython-input-74-0cd5f9670ee9>\u001b[0m in \u001b[0;36m__init__\u001b[0;34m(self, title, booktype)\u001b[0m\n\u001b[1;32m     19\u001b[0m         \u001b[0mself\u001b[0m\u001b[0;34m.\u001b[0m\u001b[0mtitle\u001b[0m \u001b[0;34m=\u001b[0m \u001b[0mtitle\u001b[0m\u001b[0;34m\u001b[0m\u001b[0;34m\u001b[0m\u001b[0m\n\u001b[1;32m     20\u001b[0m         \u001b[0;32mif\u001b[0m \u001b[0;34m(\u001b[0m\u001b[0;32mnot\u001b[0m \u001b[0mbooktype\u001b[0m \u001b[0;32min\u001b[0m \u001b[0mBook\u001b[0m\u001b[0;34m.\u001b[0m\u001b[0mBOOK_TYPES\u001b[0m\u001b[0;34m)\u001b[0m\u001b[0;34m:\u001b[0m\u001b[0;34m\u001b[0m\u001b[0;34m\u001b[0m\u001b[0m\n\u001b[0;32m---> 21\u001b[0;31m             \u001b[0;32mraise\u001b[0m \u001b[0mValueError\u001b[0m\u001b[0;34m(\u001b[0m\u001b[0;34mf'{booktype} is not a valid book type.'\u001b[0m\u001b[0;34m)\u001b[0m\u001b[0;34m\u001b[0m\u001b[0;34m\u001b[0m\u001b[0m\n\u001b[0m\u001b[1;32m     22\u001b[0m         \u001b[0;32melse\u001b[0m\u001b[0;34m:\u001b[0m\u001b[0;34m\u001b[0m\u001b[0;34m\u001b[0m\u001b[0m\n\u001b[1;32m     23\u001b[0m             \u001b[0mself\u001b[0m\u001b[0;34m.\u001b[0m\u001b[0mbooktype\u001b[0m \u001b[0;34m=\u001b[0m \u001b[0mbooktype\u001b[0m\u001b[0;34m\u001b[0m\u001b[0;34m\u001b[0m\u001b[0m\n",
      "\u001b[0;31mValueError\u001b[0m: COMIC is not a valid book type."
     ]
    }
   ],
   "source": [
    "# creating book instances\n",
    "b1 = Book('Title 1', 'HARDCOVER')\n",
    "b2 = Book('Title 2', 'COMIC')"
   ]
  },
  {
   "cell_type": "markdown",
   "id": "5321b9a3",
   "metadata": {},
   "source": [
    ">### Private Variables\n",
    ">- Encapsulation, hidden from other classes\n",
    ">- Begins with double underscore `__privateVarName`"
   ]
  },
  {
   "cell_type": "markdown",
   "id": "923424c8",
   "metadata": {},
   "source": [
    ">### Static Method"
   ]
  },
  {
   "cell_type": "code",
   "execution_count": 89,
   "id": "9bd050bb",
   "metadata": {},
   "outputs": [
    {
     "name": "stdout",
     "output_type": "stream",
     "text": [
      "Book types:  ('HARDCOVER', 'PAPERBACK', 'EBOOK')\n"
     ]
    }
   ],
   "source": [
    "class Book:\n",
    "    \n",
    "    # properties defined at the class level are shared by all class instances\n",
    "    BOOK_TYPES = ('HARDCOVER',\n",
    "                 'PAPERBACK',\n",
    "                 'EBOOK')\n",
    "    \n",
    "    # class level method\n",
    "    @classmethod\n",
    "    def getbooktypes(cls):\n",
    "        return cls.BOOK_TYPES\n",
    "    \n",
    "    # double underscore properties are hidden from other classes\n",
    "    __booklist = None # private variable\n",
    "    \n",
    "    # class level methods are shared at the class level across all class instances\n",
    "    \n",
    "    \n",
    "    # static methods (accessing private variable)\n",
    "    @staticmethod\n",
    "    def getbooklist():\n",
    "        if Book.__booklist == None:\n",
    "            Book.__booklist = []\n",
    "        return Book.__booklist\n",
    "    \n",
    "    # instance methods receive a special object instance as an arguments and\n",
    "        # operate on data specific to that object instance\n",
    "    def setTitle(self, newtitle):\n",
    "        self.title = newtitle\n",
    "        \n",
    "    def __init__(self, title, booktype):\n",
    "        self.title = title\n",
    "        if (not booktype in Book.BOOK_TYPES):\n",
    "            raise ValueError(f'{booktype} is not a valid book type.')\n",
    "        else:\n",
    "            self.booktype = booktype\n",
    "    \n",
    "    # access class attribute\n",
    "    print('Book types: ', Book.getbooktypes())"
   ]
  },
  {
   "cell_type": "code",
   "execution_count": 90,
   "id": "3340627b",
   "metadata": {},
   "outputs": [
    {
     "data": {
      "text/plain": [
       "[]"
      ]
     },
     "execution_count": 90,
     "metadata": {},
     "output_type": "execute_result"
    }
   ],
   "source": [
    "# using static method to access singleton object\n",
    "\n",
    "# creating books variable, assigning to result of getbooklist\n",
    "thebooks = Book.getbooklist() # static function within the book class, but doesn't actually modify it's state\n",
    "thebooks"
   ]
  },
  {
   "cell_type": "code",
   "execution_count": 94,
   "id": "4d791fca",
   "metadata": {},
   "outputs": [],
   "source": [
    "thebooks.append(b1)\n",
    "thebooks.append(b2)"
   ]
  },
  {
   "cell_type": "code",
   "execution_count": 95,
   "id": "864424b0",
   "metadata": {},
   "outputs": [
    {
     "data": {
      "text/plain": [
       "[<__main__.Book at 0x7fb844a0c100>,\n",
       " <__main__.Book at 0x7fb844a0c100>,\n",
       " <__main__.Book at 0x7fb84449faf0>]"
      ]
     },
     "execution_count": 95,
     "metadata": {},
     "output_type": "execute_result"
    }
   ],
   "source": [
    "thebooks"
   ]
  },
  {
   "cell_type": "markdown",
   "id": "3919b0d7",
   "metadata": {},
   "source": [
    "### Class Methods and Members"
   ]
  },
  {
   "cell_type": "code",
   "execution_count": 15,
   "id": "85c1b02a",
   "metadata": {},
   "outputs": [],
   "source": [
    "class Book:\n",
    "    \n",
    "    # TODO 1: Properties defined at the class level are shared by all instances of that class\n",
    "    BOOK_TYPES = ('Hardcover', 'Paperback', 'Ebook')\n",
    "    \n",
    "    # TODO 2: Double underscore properties are hidden from other classes\n",
    "    \n",
    "    \n",
    "    # TODO 3: Create a class method\n",
    "    @classmethod\n",
    "    def getbooktypes(cls):\n",
    "        return cls.BOOK_TYPES\n",
    "    \n",
    "    # TODO 4: Create a static method\n",
    "    \n",
    "    \n",
    "    # class instance methods receive specific object instance as argument\n",
    "        # and operate on data specific to that object instance\n",
    "    def setTitle(self, newtitle):\n",
    "        self.title = newtitle\n",
    "        \n",
    "    def __init__(self, title, booktype):\n",
    "        self.title = title\n",
    "        if (not booktype in Book.BOOK_TYPES):\n",
    "            raise ValueError(f'{booktype} is not valid book type. Choose from {Book.BOOK_TYPES}')\n",
    "        else:\n",
    "            self.booktype = booktype"
   ]
  },
  {
   "cell_type": "code",
   "execution_count": 16,
   "id": "536657bd",
   "metadata": {},
   "outputs": [
    {
     "name": "stdout",
     "output_type": "stream",
     "text": [
      "Book types:  ('Hardcover', 'Paperback', 'Ebook')\n"
     ]
    }
   ],
   "source": [
    "# TODO 5: Access class attribute\n",
    "print('Book types: ', Book.getbooktypes())"
   ]
  },
  {
   "cell_type": "code",
   "execution_count": 17,
   "id": "3bad84f4",
   "metadata": {},
   "outputs": [],
   "source": [
    "#TODO 6: Create some book instances\n",
    "b1 = Book('Title 1', 'Hardcover')"
   ]
  },
  {
   "cell_type": "code",
   "execution_count": 18,
   "id": "fc45de58",
   "metadata": {},
   "outputs": [
    {
     "ename": "ValueError",
     "evalue": "Comic is not valid book type. Choose from ('Hardcover', 'Paperback', 'Ebook')",
     "output_type": "error",
     "traceback": [
      "\u001b[0;31m---------------------------------------------------------------------------\u001b[0m",
      "\u001b[0;31mValueError\u001b[0m                                Traceback (most recent call last)",
      "\u001b[0;32m<ipython-input-18-ffe91e0836c4>\u001b[0m in \u001b[0;36m<module>\u001b[0;34m\u001b[0m\n\u001b[0;32m----> 1\u001b[0;31m \u001b[0mb2\u001b[0m \u001b[0;34m=\u001b[0m \u001b[0mBook\u001b[0m\u001b[0;34m(\u001b[0m\u001b[0;34m'Title 2'\u001b[0m\u001b[0;34m,\u001b[0m \u001b[0;34m'Comic'\u001b[0m\u001b[0;34m)\u001b[0m\u001b[0;34m\u001b[0m\u001b[0;34m\u001b[0m\u001b[0m\n\u001b[0m",
      "\u001b[0;32m<ipython-input-15-d60b3c138134>\u001b[0m in \u001b[0;36m__init__\u001b[0;34m(self, title, booktype)\u001b[0m\n\u001b[1;32m     23\u001b[0m         \u001b[0mself\u001b[0m\u001b[0;34m.\u001b[0m\u001b[0mtitle\u001b[0m \u001b[0;34m=\u001b[0m \u001b[0mtitle\u001b[0m\u001b[0;34m\u001b[0m\u001b[0;34m\u001b[0m\u001b[0m\n\u001b[1;32m     24\u001b[0m         \u001b[0;32mif\u001b[0m \u001b[0;34m(\u001b[0m\u001b[0;32mnot\u001b[0m \u001b[0mbooktype\u001b[0m \u001b[0;32min\u001b[0m \u001b[0mBook\u001b[0m\u001b[0;34m.\u001b[0m\u001b[0mBOOK_TYPES\u001b[0m\u001b[0;34m)\u001b[0m\u001b[0;34m:\u001b[0m\u001b[0;34m\u001b[0m\u001b[0;34m\u001b[0m\u001b[0m\n\u001b[0;32m---> 25\u001b[0;31m             \u001b[0;32mraise\u001b[0m \u001b[0mValueError\u001b[0m\u001b[0;34m(\u001b[0m\u001b[0;34mf'{booktype} is not valid book type. Choose from {Book.BOOK_TYPES}'\u001b[0m\u001b[0;34m)\u001b[0m\u001b[0;34m\u001b[0m\u001b[0;34m\u001b[0m\u001b[0m\n\u001b[0m\u001b[1;32m     26\u001b[0m         \u001b[0;32melse\u001b[0m\u001b[0;34m:\u001b[0m\u001b[0;34m\u001b[0m\u001b[0;34m\u001b[0m\u001b[0m\n\u001b[1;32m     27\u001b[0m             \u001b[0mself\u001b[0m\u001b[0;34m.\u001b[0m\u001b[0mbooktype\u001b[0m \u001b[0;34m=\u001b[0m \u001b[0mbooktype\u001b[0m\u001b[0;34m\u001b[0m\u001b[0;34m\u001b[0m\u001b[0m\n",
      "\u001b[0;31mValueError\u001b[0m: Comic is not valid book type. Choose from ('Hardcover', 'Paperback', 'Ebook')"
     ]
    }
   ],
   "source": [
    "b2 = Book('Title 2', 'Comic')"
   ]
  },
  {
   "cell_type": "code",
   "execution_count": 1,
   "id": "3c9bdf40",
   "metadata": {},
   "outputs": [],
   "source": [
    "# TODO 7: Use static method to access a singleton object"
   ]
  },
  {
   "cell_type": "markdown",
   "id": "4f57edfd",
   "metadata": {},
   "source": [
    "## Inheritance\n",
    "Defines a way for a given class to inherit attributes and methods from one or more base classes."
   ]
  },
  {
   "cell_type": "code",
   "execution_count": 6,
   "id": "072b3e75",
   "metadata": {},
   "outputs": [],
   "source": [
    "class Book:\n",
    "    def __init__(self, title, author, pages, price):\n",
    "        self.title = title\n",
    "        self.price = price\n",
    "        self.author = author\n",
    "        self.pages = pages\n",
    "        \n",
    "class Magazine:\n",
    "    def __init__(self, title, publisher, price, period):\n",
    "        self.title = title\n",
    "        self.price = price\n",
    "        self.period = period\n",
    "        self.publisher = publisher\n",
    "\n",
    "class Newspaper:\n",
    "    def __init__(self, title, publisher, price, period):\n",
    "        self.title = title\n",
    "        self.price = price\n",
    "        self.period = period\n",
    "        self.publisher = publisher\n",
    "        \n",
    "# a lot of duplication"
   ]
  },
  {
   "cell_type": "code",
   "execution_count": 7,
   "id": "1a6c73e3",
   "metadata": {},
   "outputs": [],
   "source": [
    "b1 = Book('Brave New World', 'A.H.', 311, 29.0)\n",
    "m1 = Magazine('Science American', 'Spring M.', 6.0, 'Daily')\n",
    "n1 = Newspaper('NY Times', 'NYT Co', 5.99, 'Monthly')"
   ]
  },
  {
   "cell_type": "code",
   "execution_count": 10,
   "id": "cf9a8333",
   "metadata": {},
   "outputs": [
    {
     "name": "stdout",
     "output_type": "stream",
     "text": [
      "A.H.\n",
      "NYT Co\n",
      "29.0 6.0 5.99\n"
     ]
    }
   ],
   "source": [
    "print(b1.author)\n",
    "print(n1.publisher)\n",
    "print(b1.price, m1.price, n1.price)"
   ]
  },
  {
   "cell_type": "code",
   "execution_count": 11,
   "id": "894ba40b",
   "metadata": {},
   "outputs": [],
   "source": [
    "# defining a base class\n",
    "class Publication:\n",
    "    def __init__(self, title, price):\n",
    "        self.title = title\n",
    "        self.price = price\n",
    "        \n",
    "class Periodical(Publication):\n",
    "    def __init__(self, title, price, period, publisher):\n",
    "        super().__init__(title, price)\n",
    "        self.period = period\n",
    "        self.publisher = publishers\n",
    "        \n",
    "class Book(Publication):\n",
    "    def __init__(self, title, author, pages, price):\n",
    "        super().__init__(title, price)\n",
    "#         self.title = title\n",
    "#         self.price = price\n",
    "        self.author = author\n",
    "        self.pages = pages\n",
    "\n",
    "class Magazine(Periodical):\n",
    "    def __init__(self, title, publisher, price, period):\n",
    "        super().__init__(title, price, period, publisher)\n",
    "            \n",
    "#         self.title = title\n",
    "#         self.price = price\n",
    "#         self.period = period\n",
    "#         self.publisher = publisher\n",
    "\n",
    "class Newspaper(Periodical):\n",
    "    def __init__(self, title, publisher, price, period):\n",
    "        super().__init__(title, price, period, publisher)\n",
    "#         self.title = title\n",
    "#         self.price = price\n",
    "#         self.period = period\n",
    "#         self.publisher = publisher"
   ]
  },
  {
   "cell_type": "code",
   "execution_count": 12,
   "id": "3a63a3bb",
   "metadata": {},
   "outputs": [
    {
     "name": "stdout",
     "output_type": "stream",
     "text": [
      "A.H.\n",
      "NYT Co\n",
      "29.0 6.0 5.99\n"
     ]
    }
   ],
   "source": [
    "# rerunning code with class inheritances\n",
    "print(b1.author)\n",
    "print(n1.publisher)\n",
    "print(b1.price, m1.price, n1.price)"
   ]
  },
  {
   "cell_type": "code",
   "execution_count": 13,
   "id": "0dc52cd8",
   "metadata": {},
   "outputs": [
    {
     "data": {
      "text/plain": [
       "0"
      ]
     },
     "execution_count": 13,
     "metadata": {},
     "output_type": "execute_result"
    }
   ],
   "source": [
    "10 % 1"
   ]
  },
  {
   "cell_type": "code",
   "execution_count": 14,
   "id": "f70a3a66",
   "metadata": {},
   "outputs": [
    {
     "data": {
      "text/plain": [
       "0.5"
      ]
     },
     "execution_count": 14,
     "metadata": {},
     "output_type": "execute_result"
    }
   ],
   "source": [
    "10.5 % 1"
   ]
  },
  {
   "cell_type": "code",
   "execution_count": null,
   "id": "cdfb07a7",
   "metadata": {},
   "outputs": [],
   "source": []
  }
 ],
 "metadata": {
  "kernelspec": {
   "display_name": "Python 3",
   "language": "python",
   "name": "python3"
  },
  "language_info": {
   "codemirror_mode": {
    "name": "ipython",
    "version": 3
   },
   "file_extension": ".py",
   "mimetype": "text/x-python",
   "name": "python",
   "nbconvert_exporter": "python",
   "pygments_lexer": "ipython3",
   "version": "3.8.8"
  }
 },
 "nbformat": 4,
 "nbformat_minor": 5
}
